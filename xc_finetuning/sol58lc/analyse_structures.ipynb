{
 "cells": [
  {
   "cell_type": "code",
   "execution_count": 1,
   "id": "4374e8ba",
   "metadata": {},
   "outputs": [
    {
     "data": {
      "text/plain": [
       "PseudoFamily(\"dojo.nc.sr.pbe.v0_4_1.standard.upf\")"
      ]
     },
     "metadata": {},
     "output_type": "display_data"
    }
   ],
   "source": [
    "using AtomsIO\n",
    "using DFTK\n",
    "using PseudoPotentialData\n",
    "using Unitful, UnitfulAtomic\n",
    "\n",
    "pseudopotentials = PseudoFamily(\"dojo.nc.sr.pbe.v0_4_1.standard.upf\")"
   ]
  },
  {
   "cell_type": "markdown",
   "id": "ba54e315",
   "metadata": {},
   "source": [
    "# Structures and lattice constants"
   ]
  },
  {
   "cell_type": "code",
   "execution_count": 2,
   "id": "4f05b329",
   "metadata": {},
   "outputs": [
    {
     "data": {
      "text/plain": [
       "58-element Vector{String}:\n",
       " \"/home/schmitz/project_autodiff_\"\u001b[93m\u001b[1m ⋯ 40 bytes ⋯ \u001b[22m\u001b[39m\"ol58lc/structures/Ag_fcc.extxyz\"\n",
       " \"/home/schmitz/project_autodiff_\"\u001b[93m\u001b[1m ⋯ 41 bytes ⋯ \u001b[22m\u001b[39m\"l58lc/structures/AlAs_b3.extxyz\"\n",
       " \"/home/schmitz/project_autodiff_\"\u001b[93m\u001b[1m ⋯ 40 bytes ⋯ \u001b[22m\u001b[39m\"ol58lc/structures/AlN_b3.extxyz\"\n",
       " \"/home/schmitz/project_autodiff_\"\u001b[93m\u001b[1m ⋯ 40 bytes ⋯ \u001b[22m\u001b[39m\"ol58lc/structures/AlP_b3.extxyz\"\n",
       " \"/home/schmitz/project_autodiff_\"\u001b[93m\u001b[1m ⋯ 40 bytes ⋯ \u001b[22m\u001b[39m\"ol58lc/structures/Al_fcc.extxyz\"\n",
       " \"/home/schmitz/project_autodiff_\"\u001b[93m\u001b[1m ⋯ 40 bytes ⋯ \u001b[22m\u001b[39m\"ol58lc/structures/Au_fcc.extxyz\"\n",
       " \"/home/schmitz/project_autodiff_\"\u001b[93m\u001b[1m ⋯ 40 bytes ⋯ \u001b[22m\u001b[39m\"ol58lc/structures/BAs_b3.extxyz\"\n",
       " \"/home/schmitz/project_autodiff_\"\u001b[93m\u001b[1m ⋯ 39 bytes ⋯ \u001b[22m\u001b[39m\"sol58lc/structures/BN_b3.extxyz\"\n",
       " \"/home/schmitz/project_autodiff_\"\u001b[93m\u001b[1m ⋯ 39 bytes ⋯ \u001b[22m\u001b[39m\"sol58lc/structures/BP_b3.extxyz\"\n",
       " \"/home/schmitz/project_autodiff_\"\u001b[93m\u001b[1m ⋯ 40 bytes ⋯ \u001b[22m\u001b[39m\"ol58lc/structures/Ba_bcc.extxyz\"\n",
       " ⋮\n",
       " \"/home/schmitz/project_autodiff_\"\u001b[93m\u001b[1m ⋯ 40 bytes ⋯ \u001b[22m\u001b[39m\"ol58lc/structures/Ta_bcc.extxyz\"\n",
       " \"/home/schmitz/project_autodiff_\"\u001b[93m\u001b[1m ⋯ 40 bytes ⋯ \u001b[22m\u001b[39m\"ol58lc/structures/TiC_b1.extxyz\"\n",
       " \"/home/schmitz/project_autodiff_\"\u001b[93m\u001b[1m ⋯ 40 bytes ⋯ \u001b[22m\u001b[39m\"ol58lc/structures/TiN_b1.extxyz\"\n",
       " \"/home/schmitz/project_autodiff_\"\u001b[93m\u001b[1m ⋯ 39 bytes ⋯ \u001b[22m\u001b[39m\"sol58lc/structures/VC_b1.extxyz\"\n",
       " \"/home/schmitz/project_autodiff_\"\u001b[93m\u001b[1m ⋯ 39 bytes ⋯ \u001b[22m\u001b[39m\"sol58lc/structures/VN_b1.extxyz\"\n",
       " \"/home/schmitz/project_autodiff_\"\u001b[93m\u001b[1m ⋯ 39 bytes ⋯ \u001b[22m\u001b[39m\"sol58lc/structures/V_bcc.extxyz\"\n",
       " \"/home/schmitz/project_autodiff_\"\u001b[93m\u001b[1m ⋯ 39 bytes ⋯ \u001b[22m\u001b[39m\"sol58lc/structures/W_bcc.extxyz\"\n",
       " \"/home/schmitz/project_autodiff_\"\u001b[93m\u001b[1m ⋯ 40 bytes ⋯ \u001b[22m\u001b[39m\"ol58lc/structures/ZrC_b1.extxyz\"\n",
       " \"/home/schmitz/project_autodiff_\"\u001b[93m\u001b[1m ⋯ 40 bytes ⋯ \u001b[22m\u001b[39m\"ol58lc/structures/ZrN_b1.extxyz\""
      ]
     },
     "metadata": {},
     "output_type": "display_data"
    }
   ],
   "source": [
    "files = readdir(joinpath(@__DIR__, \"structures\"); join=true)"
   ]
  },
  {
   "cell_type": "code",
   "execution_count": 3,
   "id": "407b33b4",
   "metadata": {},
   "outputs": [
    {
     "data": {
      "text/plain": [
       "58-element Vector{ExtXYZ.Atoms{P, @NamedTuple{a0_exp::Float64, periodicity::Tuple{Bool, Bool, Bool}, name::String, crystalstructure::String, a0_pbe::Float64, cell_vectors::Vector{Vector{Quantity{Float64, 𝐋, Unitful.FreeUnits{(Å,), 𝐋, nothing}}}}}} where P<:NamedTuple}:\n",
       " Atoms(Ag, periodicity = TTT, cell_vectors = [[0.0, 2.08219677404, 2.08219677404], [2.08219677404, 0.0, 2.08219677404], [2.08219677404, 2.08219677404, 0.0]]u\"Å\")\n",
       " Atoms(AlAs, periodicity = TTT, cell_vectors = [[0.0, 2.868133003515, 2.868133003515], [2.868133003515, 0.0, 2.868133003515], [2.868133003515, 2.868133003515, 0.0]]u\"Å\")\n",
       " Atoms(AlN, periodicity = TTT, cell_vectors = [[0.0, 2.2071087452850002, 2.2071087452850002], [2.2071087452850002, 0.0, 2.2071087452850002], [2.2071087452850002, 2.2071087452850002, 0.0]]u\"Å\")\n",
       " Atoms(AlP, periodicity = TTT, cell_vectors = [[0.0, 2.75608750722, 2.75608750722], [2.75608750722, 0.0, 2.75608750722], [2.75608750722, 2.75608750722, 0.0]]u\"Å\")\n",
       " Atoms(Al, periodicity = TTT, cell_vectors = [[0.0, 2.02196641845, 2.02196641845], [2.02196641845, 0.0, 2.02196641845], [2.02196641845, 2.02196641845, 0.0]]u\"Å\")\n",
       " Atoms(Au, periodicity = TTT, cell_vectors = [[0.0, 2.087294964185, 2.087294964185], [2.087294964185, 0.0, 2.087294964185], [2.087294964185, 2.087294964185, 0.0]]u\"Å\")\n",
       " Atoms(AsB, periodicity = TTT, cell_vectors = [[0.0, 2.40792967266, 2.40792967266], [2.40792967266, 0.0, 2.40792967266], [2.40792967266, 2.40792967266, 0.0]]u\"Å\")\n",
       " Atoms(BN, periodicity = TTT, cell_vectors = [[0.0, 1.812989359565, 1.812989359565], [1.812989359565, 0.0, 1.812989359565], [1.812989359565, 1.812989359565, 0.0]]u\"Å\")\n",
       " Atoms(BP, periodicity = TTT, cell_vectors = [[0.0, 2.27588204281, 2.27588204281], [2.27588204281, 0.0, 2.27588204281], [2.27588204281, 2.27588204281, 0.0]]u\"Å\")\n",
       " Atoms(Ba, periodicity = TTT, cell_vectors = [[-2.5160211701299997, 2.5160211701299997, 2.5160211701299997], [2.5160211701299997, -2.5160211701299997, 2.5160211701299997], [2.5160211701299997, 2.5160211701299997, -2.5160211701299997]]u\"Å\")\n",
       " ⋮\n",
       " Atoms(Ta, periodicity = TTT, cell_vectors = [[-1.666538061715, 1.666538061715, 1.666538061715], [1.666538061715, -1.666538061715, 1.666538061715], [1.666538061715, 1.666538061715, -1.666538061715]]u\"Å\")\n",
       " Atoms(CTi, periodicity = TTT, cell_vectors = [[0.0, 2.169545027215, 2.169545027215], [2.169545027215, 0.0, 2.169545027215], [2.169545027215, 2.169545027215, 0.0]]u\"Å\")\n",
       " Atoms(NTi, periodicity = TTT, cell_vectors = [[0.0, 2.12678788495, 2.12678788495], [2.12678788495, 0.0, 2.12678788495], [2.12678788495, 2.12678788495, 0.0]]u\"Å\")\n",
       " Atoms(CV, periodicity = TTT, cell_vectors = [[0.0, 2.098384050745, 2.098384050745], [2.098384050745, 0.0, 2.098384050745], [2.098384050745, 2.098384050745, 0.0]]u\"Å\")\n",
       " Atoms(NV, periodicity = TTT, cell_vectors = [[0.0, 2.08342933664, 2.08342933664], [2.08342933664, 0.0, 2.08342933664], [2.08342933664, 2.08342933664, 0.0]]u\"Å\")\n",
       " Atoms(V, periodicity = TTT, cell_vectors = [[-1.50796126656, 1.50796126656, 1.50796126656], [1.50796126656, -1.50796126656, 1.50796126656], [1.50796126656, 1.50796126656, -1.50796126656]]u\"Å\")\n",
       " Atoms(W, periodicity = TTT, cell_vectors = [[-1.602093946475, 1.602093946475, 1.602093946475], [1.602093946475, -1.602093946475, 1.602093946475], [1.602093946475, 1.602093946475, -1.602093946475]]u\"Å\")\n",
       " Atoms(CZr, periodicity = TTT, cell_vectors = [[0.0, 2.3577471505800003, 2.3577471505800003], [2.3577471505800003, 0.0, 2.3577471505800003], [2.3577471505800003, 2.3577471505800003, 0.0]]u\"Å\")\n",
       " Atoms(NZr, periodicity = TTT, cell_vectors = [[0.0, 2.3025446164349996, 2.3025446164349996], [2.3025446164349996, 0.0, 2.3025446164349996], [2.3025446164349996, 2.3025446164349996, 0.0]]u\"Å\")"
      ]
     },
     "metadata": {},
     "output_type": "display_data"
    }
   ],
   "source": [
    "systems = load_system.(files)"
   ]
  },
  {
   "cell_type": "code",
   "execution_count": 4,
   "id": "5a5392e9",
   "metadata": {},
   "outputs": [
    {
     "data": {
      "text/plain": [
       "Dict{Symbol, Any} with 6 entries:\n",
       "  :a0_exp           => 4.063\n",
       "  :periodicity      => (true, true, true)\n",
       "  :name             => \"Ag\"\n",
       "  :crystalstructure => \"fcc\"\n",
       "  :a0_pbe           => 4.16439\n",
       "  :cell_vectors     => Vector{Quantity{Float64, 𝐋, FreeUnits{(Å,), 𝐋, nothing}}…"
      ]
     },
     "metadata": {},
     "output_type": "display_data"
    }
   ],
   "source": [
    "Dict(pairs(systems[1].system_data)...)"
   ]
  },
  {
   "cell_type": "code",
   "execution_count": 5,
   "id": "51b7eadc",
   "metadata": {},
   "outputs": [
    {
     "name": "stdout",
     "output_type": "stream",
     "text": [
      "(systems[1]).system_data.a0_exp = 4.063\n",
      "(systems[1]).system_data.a0_pbe = 4.16439354808\n"
     ]
    },
    {
     "data": {
      "text/plain": [
       "4.16439354808"
      ]
     },
     "metadata": {},
     "output_type": "display_data"
    }
   ],
   "source": [
    "@show systems[1].system_data.a0_exp\n",
    "@show systems[1].system_data.a0_pbe"
   ]
  },
  {
   "cell_type": "markdown",
   "id": "ff04beb3",
   "metadata": {},
   "source": [
    "# K-point grids"
   ]
  },
  {
   "cell_type": "code",
   "execution_count": 6,
   "id": "2d853e0d",
   "metadata": {},
   "outputs": [
    {
     "data": {
      "text/plain": [
       "58-element Vector{Model{Float64, Float64}}:\n",
       " Model(gga_x_pbe+gga_c_pbe, spin_polarization = :none)\n",
       " Model(gga_x_pbe+gga_c_pbe, spin_polarization = :none)\n",
       " Model(gga_x_pbe+gga_c_pbe, spin_polarization = :none)\n",
       " Model(gga_x_pbe+gga_c_pbe, spin_polarization = :none)\n",
       " Model(gga_x_pbe+gga_c_pbe, spin_polarization = :none)\n",
       " Model(gga_x_pbe+gga_c_pbe, spin_polarization = :none)\n",
       " Model(gga_x_pbe+gga_c_pbe, spin_polarization = :none)\n",
       " Model(gga_x_pbe+gga_c_pbe, spin_polarization = :none)\n",
       " Model(gga_x_pbe+gga_c_pbe, spin_polarization = :none)\n",
       " Model(gga_x_pbe+gga_c_pbe, spin_polarization = :none)\n",
       " ⋮\n",
       " Model(gga_x_pbe+gga_c_pbe, spin_polarization = :none)\n",
       " Model(gga_x_pbe+gga_c_pbe, spin_polarization = :none)\n",
       " Model(gga_x_pbe+gga_c_pbe, spin_polarization = :none)\n",
       " Model(gga_x_pbe+gga_c_pbe, spin_polarization = :none)\n",
       " Model(gga_x_pbe+gga_c_pbe, spin_polarization = :none)\n",
       " Model(gga_x_pbe+gga_c_pbe, spin_polarization = :none)\n",
       " Model(gga_x_pbe+gga_c_pbe, spin_polarization = :none)\n",
       " Model(gga_x_pbe+gga_c_pbe, spin_polarization = :none)\n",
       " Model(gga_x_pbe+gga_c_pbe, spin_polarization = :none)"
      ]
     },
     "metadata": {},
     "output_type": "display_data"
    }
   ],
   "source": [
    "models = map(systems) do system\n",
    "    model_DFT(system; functionals=PBE(), pseudopotentials)\n",
    "end"
   ]
  },
  {
   "cell_type": "code",
   "execution_count": 11,
   "id": "547fe096",
   "metadata": {},
   "outputs": [
    {
     "data": {
      "text/plain": [
       "3×3 StaticArraysCore.SMatrix{3, 3, Float64, 9} with indices SOneTo(3)×SOneTo(3):\n",
       " 0.0  0.5  0.5\n",
       " 0.5  0.0  0.5\n",
       " 0.5  0.5  0.0"
      ]
     },
     "metadata": {},
     "output_type": "display_data"
    }
   ],
   "source": [
    "## Check consistency of lattice constant and volume\n",
    "using LinearAlgebra\n",
    "(models[1].lattice / austrip(systems[1].system_data.a0_pbe * u\"Å\"))"
   ]
  },
  {
   "cell_type": "code",
   "execution_count": 12,
   "id": "824105df",
   "metadata": {},
   "outputs": [
    {
     "data": {
      "text/plain": [
       "58-element Vector{StaticArraysCore.SVector{3, Int64}}:\n",
       " [18, 18, 18]\n",
       " [13, 13, 13]\n",
       " [17, 17, 17]\n",
       " [14, 14, 14]\n",
       " [18, 18, 18]\n",
       " [18, 18, 18]\n",
       " [16, 16, 16]\n",
       " [21, 21, 21]\n",
       " [16, 16, 16]\n",
       " [12, 12, 12]\n",
       " ⋮\n",
       " [18, 18, 18]\n",
       " [17, 17, 17]\n",
       " [18, 18, 18]\n",
       " [18, 18, 18]\n",
       " [18, 18, 18]\n",
       " [20, 20, 20]\n",
       " [19, 19, 19]\n",
       " [16, 16, 16]\n",
       " [16, 16, 16]"
      ]
     },
     "metadata": {},
     "output_type": "display_data"
    }
   ],
   "source": [
    "kspacing = 0.15u\"Å^-1\"\n",
    "kgrids = map(models) do model\n",
    "    kgrid_from_maximal_spacing(model, kspacing).kgrid_size\n",
    "end"
   ]
  },
  {
   "cell_type": "code",
   "execution_count": 13,
   "id": "d484a0b3",
   "metadata": {},
   "outputs": [
    {
     "name": "stdout",
     "output_type": "stream",
     "text": [
      "(name, kgrid, model.unit_cell_volume) = (\"Rb\", [11, 11, 11], 614.8445956700341)\n",
      "(name, kgrid, model.unit_cell_volume) = (\"Sn\", [11, 11, 11], 497.6957357379282)\n",
      "(name, kgrid, model.unit_cell_volume) = (\"Ba\", [12, 12, 12], 429.93169749234784)\n",
      "(name, kgrid, model.unit_cell_volume) = (\"InAs\", [12, 12, 12], 400.3163071112155)\n",
      "(name, kgrid, model.unit_cell_volume) = (\"K\", [12, 12, 12], 497.4383733568496)\n",
      "(name, kgrid, model.unit_cell_volume) = (\"AlAs\", [13, 13, 13], 318.43768470746545)\n",
      "(name, kgrid, model.unit_cell_volume) = (\"GaAs\", [13, 13, 13], 323.88935360831914)\n",
      "(name, kgrid, model.unit_cell_volume) = (\"Ge\", [13, 13, 13], 323.4822397336022)\n",
      "(name, kgrid, model.unit_cell_volume) = (\"InP\", [13, 13, 13], 358.1800940812024)\n",
      "(name, kgrid, model.unit_cell_volume) = (\"NaCl\", [13, 13, 13], 310.23896882524684)\n",
      "(name, kgrid, model.unit_cell_volume) = (\"Sr\", [13, 13, 13], 370.9429406153264)\n",
      "(name, kgrid, model.unit_cell_volume) = (\"AlP\", [14, 14, 14], 282.55669649112343)\n",
      "(name, kgrid, model.unit_cell_volume) = (\"Ca\", [14, 14, 14], 286.9560474977866)\n",
      "(name, kgrid, model.unit_cell_volume) = (\"GaP\", [14, 14, 14], 287.54522985369465)\n",
      "(name, kgrid, model.unit_cell_volume) = (\"MgS\", [14, 14, 14], 242.2325155500893)\n",
      "(name, kgrid, model.unit_cell_volume) = (\"Si\", [14, 14, 14], 276.9582911976412)\n",
      "(name, kgrid, model.unit_cell_volume) = (\"CaO\", [15, 15, 15], 192.79913990986304)\n",
      "(name, kgrid, model.unit_cell_volume) = (\"CoAl\", [15, 15, 15], 157.4125808811582)\n",
      "(name, kgrid, model.unit_cell_volume) = (\"FeAl\", [15, 15, 15], 161.6529804295466)\n",
      "(name, kgrid, model.unit_cell_volume) = (\"LiCl\", [15, 15, 15], 231.42928897140462)\n",
      "(name, kgrid, model.unit_cell_volume) = (\"Na\", [15, 15, 15], 249.27909584293783)\n",
      "(name, kgrid, model.unit_cell_volume) = (\"NiAl\", [15, 15, 15], 163.84532525162376)\n",
      "(name, kgrid, model.unit_cell_volume) = (\"Pb\", [15, 15, 15], 216.78339906194958)\n",
      "(name, kgrid, model.unit_cell_volume) = (\"BAs\", [16, 16, 16], 188.4334468431879)\n",
      "(name, kgrid, model.unit_cell_volume) = (\"BP\", [16, 16, 16], 159.10207519893774)\n",
      "(name, kgrid, model.unit_cell_volume) = (\"GaN\", [16, 16, 16], 164.6421965822136)\n",
      "(name, kgrid, model.unit_cell_volume) = (\"NaF\", [16, 16, 16], 174.4398804278033)\n",
      "(name, kgrid, model.unit_cell_volume) = (\"ZrC\", [16, 16, 16], 176.89611001441673)\n",
      "(name, kgrid, model.unit_cell_volume) = (\"ZrN\", [16, 16, 16], 164.75961164989104)\n",
      "(name, kgrid, model.unit_cell_volume) = (\"AlN\", [17, 17, 17], 145.1101501642562)\n",
      "(name, kgrid, model.unit_cell_volume) = (\"NbC\", [17, 17, 17], 155.95626309748388)\n",
      "(name, kgrid, model.unit_cell_volume) = (\"NbN\", [17, 17, 17], 150.65579769348534)\n",
      "(name, kgrid, model.unit_cell_volume) = (\"SiC\", [17, 17, 17], 142.64955292008034)\n",
      "(name, kgrid, model.unit_cell_volume) = (\"TiC\", [17, 17, 17], 137.8264597202234)\n",
      "(name, kgrid, model.unit_cell_volume) = (\"Ag\", [18, 18, 18], 121.84056511133436)\n",
      "(name, kgrid, model.unit_cell_volume) = (\"Al\", [18, 18, 18], 111.57025147636779)\n",
      "(name, kgrid, model.unit_cell_volume) = (\"Au\", [18, 18, 18], 122.73772601765492)\n",
      "(name, kgrid, model.unit_cell_volume) = (\"LiF\", [18, 18, 18], 116.06337455906049)\n",
      "(name, kgrid, model.unit_cell_volume) = (\"Li\", [18, 18, 18], 136.81287184240824)\n",
      "(name, kgrid, model.unit_cell_volume) = (\"MgO\", [18, 18, 18], 130.99145870387633)\n",
      "(name, kgrid, model.unit_cell_volume) = (\"Nb\", [18, 18, 18], 123.16670452414489)\n",
      "(name, kgrid, model.unit_cell_volume) = (\"Ta\", [18, 18, 18], 124.94023056521894)\n",
      "(name, kgrid, model.unit_cell_volume) = (\"TiN\", [18, 18, 18], 129.83719665776056)\n",
      "(name, kgrid, model.unit_cell_volume) = (\"VC\", [18, 18, 18], 124.70432808464064)\n",
      "(name, kgrid, model.unit_cell_volume) = (\"VN\", [18, 18, 18], 122.05706487783853)\n",
      "(name, kgrid, model.unit_cell_volume) = (\"Ir\", [19, 19, 19], 99.20492206240209)\n",
      "(name, kgrid, model.unit_cell_volume) = (\"LiH\", [19, 19, 19], 110.15998367685361)\n",
      "(name, kgrid, model.unit_cell_volume) = (\"Mo\", [19, 19, 19], 107.24881736692919)\n",
      "(name, kgrid, model.unit_cell_volume) = (\"Pd\", [19, 19, 19], 103.90213361890365)\n",
      "(name, kgrid, model.unit_cell_volume) = (\"Pt\", [19, 19, 19], 106.47207193861111)\n",
      "(name, kgrid, model.unit_cell_volume) = (\"Rh\", [19, 19, 19], 96.61785132715042)\n",
      "(name, kgrid, model.unit_cell_volume) = (\"W\", [19, 19, 19], 110.99937431854303)\n",
      "(name, kgrid, model.unit_cell_volume) = (\"Cu\", [20, 20, 20], 81.45232764338743)\n",
      "(name, kgrid, model.unit_cell_volume) = (\"V\", [20, 20, 20], 92.56081110545237)\n",
      "(name, kgrid, model.unit_cell_volume) = (\"BN\", [21, 21, 21], 80.42894323002113)\n",
      "(name, kgrid, model.unit_cell_volume) = (\"C\", [21, 21, 21], 76.9441617055641)\n",
      "(name, kgrid, model.unit_cell_volume) = (\"Fe\", [21, 21, 21], 77.26786070725197)\n",
      "(name, kgrid, model.unit_cell_volume) = (\"Ni\", [21, 21, 21], 73.56570034715584)\n",
      "\n",
      "(name, kgrid, model.unit_cell_volume) = (\"Sn\", [11, 11, 11], 497.6957357379282)\n",
      "(name, kgrid, model.unit_cell_volume) = (\"Ba\", [12, 12, 12], 429.93169749234784)\n",
      "(name, kgrid, model.unit_cell_volume) = (\"InAs\", [12, 12, 12], 400.3163071112155)\n",
      "(name, kgrid, model.unit_cell_volume) = (\"K\", [12, 12, 12], 497.4383733568496)\n",
      "(name, kgrid, model.unit_cell_volume) = (\"AlAs\", [13, 13, 13], 318.43768470746545)\n",
      "(name, kgrid, model.unit_cell_volume) = (\"GaAs\", [13, 13, 13], 323.88935360831914)\n",
      "(name, kgrid, model.unit_cell_volume) = (\"Ge\", [13, 13, 13], 323.4822397336022)\n",
      "(name, kgrid, model.unit_cell_volume) = (\"InP\", [13, 13, 13], 358.1800940812024)\n",
      "(name, kgrid, model.unit_cell_volume) = (\"NaCl\", [13, 13, 13], 310.23896882524684)\n",
      "(name, kgrid, model.unit_cell_volume) = (\"Sr\", [13, 13, 13], 370.9429406153264)\n",
      "(name, kgrid, model.unit_cell_volume) = (\"AlP\", [14, 14, 14], 282.55669649112343)\n",
      "(name, kgrid, model.unit_cell_volume) = (\"Ca\", [14, 14, 14], 286.9560474977866)\n",
      "(name, kgrid, model.unit_cell_volume) = (\"GaP\", [14, 14, 14], 287.54522985369465)\n",
      "(name, kgrid, model.unit_cell_volume) = (\"MgS\", [14, 14, 14], 242.2325155500893)\n",
      "(name, kgrid, model.unit_cell_volume) = (\"Si\", [14, 14, 14], 276.9582911976412)\n",
      "(name, kgrid, model.unit_cell_volume) = (\"CaO\", [15, 15, 15], 192.79913990986304)\n",
      "(name, kgrid, model.unit_cell_volume) = (\"CoAl\", [15, 15, 15], 157.4125808811582)\n",
      "(name, kgrid, model.unit_cell_volume) = (\"FeAl\", [15, 15, 15], 161.6529804295466)\n",
      "(name, kgrid, model.unit_cell_volume) = (\"LiCl\", [15, 15, 15], 231.42928897140462)\n",
      "(name, kgrid, model.unit_cell_volume) = (\"Na\", [15, 15, 15], 249.27909584293783)\n",
      "(name, kgrid, model.unit_cell_volume) = (\"NiAl\", [15, 15, 15], 163.84532525162376)\n",
      "(name, kgrid, model.unit_cell_volume) = (\"Pb\", [15, 15, 15], 216.78339906194958)\n",
      "(name, kgrid, model.unit_cell_volume) = (\"BAs\", [16, 16, 16], 188.4334468431879)\n",
      "(name, kgrid, model.unit_cell_volume) = (\"BP\", [16, 16, 16], 159.10207519893774)\n",
      "(name, kgrid, model.unit_cell_volume) = (\"GaN\", [16, 16, 16], 164.6421965822136)\n",
      "(name, kgrid, model.unit_cell_volume) = (\"NaF\", [16, 16, 16], 174.4398804278033)\n",
      "(name, kgrid, model.unit_cell_volume) = (\"ZrC\", [16, 16, 16], 176.89611001441673)\n",
      "(name, kgrid, model.unit_cell_volume) = (\"ZrN\", [16, 16, 16], 164.75961164989104)\n",
      "(name, kgrid, model.unit_cell_volume) = (\"AlN\", [17, 17, 17], 145.1101501642562)\n",
      "(name, kgrid, model.unit_cell_volume) = (\"NbC\", [17, 17, 17], 155.95626309748388)\n",
      "(name, kgrid, model.unit_cell_volume) = (\"NbN\", [17, 17, 17], 150.65579769348534)\n",
      "(name, kgrid, model.unit_cell_volume) = (\"SiC\", [17, 17, 17], 142.64955292008034)\n",
      "(name, kgrid, model.unit_cell_volume) = (\"TiC\", [17, 17, 17], 137.8264597202234)\n",
      "(name, kgrid, model.unit_cell_volume) = (\"Ag\", [18, 18, 18], 121.84056511133436)\n",
      "(name, kgrid, model.unit_cell_volume) = (\"Al\", [18, 18, 18], 111.57025147636779)\n",
      "(name, kgrid, model.unit_cell_volume) = (\"Au\", [18, 18, 18], 122.73772601765492)\n",
      "(name, kgrid, model.unit_cell_volume) = (\"LiF\", [18, 18, 18], 116.06337455906049)\n",
      "(name, kgrid, model.unit_cell_volume) = (\"Li\", [18, 18, 18], 136.81287184240824)\n",
      "(name, kgrid, model.unit_cell_volume) = (\"MgO\", [18, 18, 18], 130.99145870387633)\n",
      "(name, kgrid, model.unit_cell_volume) = (\"Nb\", [18, 18, 18], 123.16670452414489)\n",
      "(name, kgrid, model.unit_cell_volume) = (\"Ta\", [18, 18, 18], 124.94023056521894)\n",
      "(name, kgrid, model.unit_cell_volume) = (\"TiN\", [18, 18, 18], 129.83719665776056)\n",
      "(name, kgrid, model.unit_cell_volume) = (\"VC\", [18, 18, 18], 124.70432808464064)\n",
      "(name, kgrid, model.unit_cell_volume) = (\"VN\", [18, 18, 18], 122.05706487783853)\n",
      "(name, kgrid, model.unit_cell_volume) = (\"Ir\", [19, 19, 19], 99.20492206240209)\n",
      "(name, kgrid, model.unit_cell_volume) = (\"LiH\", [19, 19, 19], 110.15998367685361)\n",
      "(name, kgrid, model.unit_cell_volume) = (\"Mo\", [19, 19, 19], 107.24881736692919)\n",
      "(name, kgrid, model.unit_cell_volume) = (\"Pd\", [19, 19, 19], 103.90213361890365)\n",
      "(name, kgrid, model.unit_cell_volume) = (\"Pt\", [19, 19, 19], 106.47207193861111)\n",
      "(name, kgrid, model.unit_cell_volume) = (\"Rh\", [19, 19, 19], 96.61785132715042)\n",
      "(name, kgrid, model.unit_cell_volume) = (\"W\", [19, 19, 19], 110.99937431854303)\n",
      "(name, kgrid, model.unit_cell_volume) = (\"Cu\", [20, 20, 20], 81.45232764338743)\n",
      "(name, kgrid, model.unit_cell_volume) = (\"V\", [20, 20, 20], 92.56081110545237)\n",
      "(name, kgrid, model.unit_cell_volume) = (\"BN\", [21, 21, 21], 80.42894323002113)\n",
      "(name, kgrid, model.unit_cell_volume) = (\"C\", [21, 21, 21], 76.9441617055641)\n",
      "(name, kgrid, model.unit_cell_volume) = (\"Fe\", [21, 21, 21], 77.26786070725197)\n",
      "(name, kgrid, model.unit_cell_volume) = (\"Ni\", [21, 21, 21], 73.56570034715584)\n"
     ]
    }
   ],
   "source": [
    "names = [system.system_data.name for system in systems]\n",
    "perm = sortperm(kgrids)\n",
    "for (name, kgrid, model) in zip(names[perm], kgrids[perm], models[perm])\n",
    "    @show (name, kgrid, model.unit_cell_volume)\n",
    "end"
   ]
  },
  {
   "cell_type": "markdown",
   "id": "ab9f3eab",
   "metadata": {},
   "source": [
    "# PseudoDojo recommended cutoffs"
   ]
  },
  {
   "cell_type": "code",
   "execution_count": 14,
   "id": "f672ed22",
   "metadata": {},
   "outputs": [
    {
     "data": {
      "text/plain": [
       "58-element Vector{Vector{Float64}}:\n",
       " [41.0]\n",
       " [20.0, 42.0]\n",
       " [20.0, 42.0]\n",
       " [20.0, 22.0]\n",
       " [20.0]\n",
       " [38.0]\n",
       " [38.0, 42.0]\n",
       " [38.0, 42.0]\n",
       " [38.0, 22.0]\n",
       " [22.0]\n",
       " ⋮\n",
       " [29.0]\n",
       " [42.0, 41.0]\n",
       " [42.0, 42.0]\n",
       " [42.0, 41.0]\n",
       " [42.0, 42.0]\n",
       " [42.0]\n",
       " [37.0]\n",
       " [33.0, 41.0]\n",
       " [33.0, 42.0]"
      ]
     },
     "metadata": {},
     "output_type": "display_data"
    }
   ],
   "source": [
    "Ecuts = map(models) do model\n",
    "    Ecuts_atoms = [\n",
    "        recommended_cutoff(pseudopotentials, Symbol(at.species)).Ecut\n",
    "        for at in unique(model.atoms)\n",
    "    ]\n",
    "end"
   ]
  },
  {
   "cell_type": "code",
   "execution_count": 15,
   "id": "271bba2a",
   "metadata": {},
   "outputs": [
    {
     "data": {
      "text/plain": [
       "58-element Vector{Tuple{String, Vector{Float64}}}:\n",
       " (\"Ag\", [41.0])\n",
       " (\"AlAs\", [20.0, 42.0])\n",
       " (\"AlN\", [20.0, 42.0])\n",
       " (\"AlP\", [20.0, 22.0])\n",
       " (\"Al\", [20.0])\n",
       " (\"Au\", [38.0])\n",
       " (\"BAs\", [38.0, 42.0])\n",
       " (\"BN\", [38.0, 42.0])\n",
       " (\"BP\", [38.0, 22.0])\n",
       " (\"Ba\", [22.0])\n",
       " ⋮\n",
       " (\"Ta\", [29.0])\n",
       " (\"TiC\", [42.0, 41.0])\n",
       " (\"TiN\", [42.0, 42.0])\n",
       " (\"VC\", [42.0, 41.0])\n",
       " (\"VN\", [42.0, 42.0])\n",
       " (\"V\", [42.0])\n",
       " (\"W\", [37.0])\n",
       " (\"ZrC\", [33.0, 41.0])\n",
       " (\"ZrN\", [33.0, 42.0])"
      ]
     },
     "metadata": {},
     "output_type": "display_data"
    }
   ],
   "source": [
    "collect(zip(names, Ecuts))"
   ]
  },
  {
   "cell_type": "markdown",
   "id": "24fe0b3f",
   "metadata": {},
   "source": [
    "### Largest Max-Ecut in each system"
   ]
  },
  {
   "cell_type": "code",
   "execution_count": 16,
   "id": "6cd2ec8c",
   "metadata": {},
   "outputs": [
    {
     "data": {
      "text/plain": [
       "58-element Vector{Tuple{String, Vector{Float64}}}:\n",
       " (\"Si\", [18.0])\n",
       " (\"Al\", [20.0])\n",
       " (\"AlP\", [20.0, 22.0])\n",
       " (\"Ba\", [22.0])\n",
       " (\"Rb\", [23.0])\n",
       " (\"Pb\", [28.0])\n",
       " (\"Ta\", [29.0])\n",
       " (\"Ca\", [34.0])\n",
       " (\"Ir\", [34.0])\n",
       " (\"Sr\", [34.0])\n",
       " ⋮\n",
       " (\"NaF\", [44.0, 42.0])\n",
       " (\"Na\", [44.0])\n",
       " (\"Rh\", [44.0])\n",
       " (\"FeAl\", [45.0, 20.0])\n",
       " (\"Fe\", [45.0])\n",
       " (\"Cu\", [46.0])\n",
       " (\"CoAl\", [48.0, 20.0])\n",
       " (\"NiAl\", [49.0, 20.0])\n",
       " (\"Ni\", [49.0])"
      ]
     },
     "metadata": {},
     "output_type": "display_data"
    }
   ],
   "source": [
    "sort(\n",
    "    collect(zip(names, Ecuts)); by= s -> maximum(s[2])\n",
    ")"
   ]
  },
  {
   "cell_type": "markdown",
   "id": "e743858c",
   "metadata": {},
   "source": [
    "### Largest Ecut range within a system"
   ]
  },
  {
   "cell_type": "code",
   "execution_count": 17,
   "id": "dae77fff",
   "metadata": {},
   "outputs": [
    {
     "data": {
      "text/plain": [
       "58-element Vector{Tuple{String, Vector{Float64}}}:\n",
       " (\"Ag\", [41.0])\n",
       " (\"Al\", [20.0])\n",
       " (\"Au\", [38.0])\n",
       " (\"Ba\", [22.0])\n",
       " (\"C\", [41.0])\n",
       " (\"Ca\", [34.0])\n",
       " (\"Cu\", [46.0])\n",
       " (\"Fe\", [45.0])\n",
       " (\"Ge\", [39.0])\n",
       " (\"Ir\", [34.0])\n",
       " ⋮\n",
       " (\"BP\", [38.0, 22.0])\n",
       " (\"MgS\", [42.0, 26.0])\n",
       " (\"GaP\", [40.0, 22.0])\n",
       " (\"AlAs\", [20.0, 42.0])\n",
       " (\"AlN\", [20.0, 42.0])\n",
       " (\"SiC\", [18.0, 41.0])\n",
       " (\"FeAl\", [45.0, 20.0])\n",
       " (\"CoAl\", [48.0, 20.0])\n",
       " (\"NiAl\", [49.0, 20.0])"
      ]
     },
     "metadata": {},
     "output_type": "display_data"
    }
   ],
   "source": [
    "sort(\n",
    "    collect(zip(names, Ecuts)); by= s -> maximum(s[2]) - minimum(s[2])\n",
    ")"
   ]
  },
  {
   "cell_type": "code",
   "execution_count": null,
   "id": "6cc3246b",
   "metadata": {},
   "outputs": [],
   "source": []
  }
 ],
 "metadata": {
  "kernelspec": {
   "display_name": "Julia 1.11.4",
   "language": "julia",
   "name": "julia-1.11"
  },
  "language_info": {
   "file_extension": ".jl",
   "mimetype": "application/julia",
   "name": "julia",
   "version": "1.11.4"
  }
 },
 "nbformat": 4,
 "nbformat_minor": 5
}
